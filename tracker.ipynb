{
 "cells": [
  {
   "cell_type": "code",
   "execution_count": 1,
   "id": "9771d9e2",
   "metadata": {},
   "outputs": [],
   "source": [
    "import math"
   ]
  },
  {
   "cell_type": "code",
   "execution_count": 3,
   "id": "351f3f6a",
   "metadata": {},
   "outputs": [],
   "source": [
    "class Tracker:\n",
    "    def __init__(self):\n",
    "        self.center_points = {}\n",
    "        #keep count of IDS\n",
    "        # each time a new object is detected, the count will increase by one\n",
    "        self.id_count = 0\n",
    "    \n",
    "    def update(self, objects_rect):\n",
    "        objects_bb_ids = []\n",
    "        \n",
    "        #get centre point of new point\n",
    "        for rect in objects_rect:\n",
    "            x,y,w,h = rect\n",
    "            cx = (x+x+w) // 2\n",
    "            cy = (y+y+h) //2\n",
    "            \n",
    "            #find out if that object was detected already\n",
    "            same_object_detected = False\n",
    "            for id, pt in self.center_points.items():\n",
    "                dist = math.hypot(cx - pt[0], cy -pt[1])\n",
    "                \n",
    "                if dist<35:\n",
    "                    self.center_points[id] = (cx, cy)\n",
    "                    objects_bbs_ids.append([x,y,w,h,id])\n",
    "                    same_object_detected = True\n",
    "                    break\n",
    "                if same_object_detected is False:\n",
    "                    self.center_points[self.id_count] = (cx, cy)\n",
    "                    objects_bbs_ids.append([x,y,w,h, self.id_count])\n",
    "                    self.id_count += 1\n",
    "                new_center_points = {}\n",
    "                for obj_bb_id in objects_bbs_ids:\n",
    "                    _,_,_,_, object_id = obj_bb_id\n",
    "                    center = self.center_points[object_id]\n",
    "                    new_center_points[object_id] = center\n",
    "                \n",
    "                self.center_points = new_center_points.copy()\n",
    "                return objects_bbs_ids"
   ]
  },
  {
   "cell_type": "code",
   "execution_count": null,
   "id": "49ab431d",
   "metadata": {},
   "outputs": [],
   "source": []
  }
 ],
 "metadata": {
  "kernelspec": {
   "display_name": "Python 3 (ipykernel)",
   "language": "python",
   "name": "python3"
  },
  "language_info": {
   "codemirror_mode": {
    "name": "ipython",
    "version": 3
   },
   "file_extension": ".py",
   "mimetype": "text/x-python",
   "name": "python",
   "nbconvert_exporter": "python",
   "pygments_lexer": "ipython3",
   "version": "3.10.9"
  }
 },
 "nbformat": 4,
 "nbformat_minor": 5
}
